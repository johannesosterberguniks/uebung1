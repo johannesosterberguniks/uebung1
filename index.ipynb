{
 "cells": [
  {
   "cell_type": "code",
   "execution_count": 5,
   "metadata": {},
   "outputs": [],
   "source": [
    "# Das Paket tidyverse wird geladen\n",
    "library(tidyverse);"
   ]
  },
  {
   "cell_type": "code",
   "execution_count": 2,
   "metadata": {},
   "outputs": [],
   "source": [
    "load(file = \"Statistik2_Daten_Unterschiedshypothesen1.RData\")"
   ]
  },
  {
   "cell_type": "markdown",
   "metadata": {},
   "source": [
    "\n",
    "Wir Überprüfen ob der Datensatz \"Statistik2_Daten_Unterschiedshypothesen1\" geladen wurde.\n",
    "\n",
    "Der Befehl head() zeigt dabei die ersten Spalten und Zeilen eines Datenframes an."
   ]
  },
  {
   "cell_type": "code",
   "execution_count": 3,
   "metadata": {},
   "outputs": [
    {
     "data": {
      "text/html": [
       "<table class=\"dataframe\">\n",
       "<caption>A tibble: 6 × 40</caption>\n",
       "<thead>\n",
       "\t<tr><th scope=col>ID</th><th scope=col>gruppe</th><th scope=col>sex</th><th scope=col>vorwissen</th><th scope=col>msk_1_prä</th><th scope=col>msk_2_prä</th><th scope=col>msk_2_prä_inv</th><th scope=col>msk_3_prä</th><th scope=col>msk_4_prä</th><th scope=col>msk_5_prä</th><th scope=col>⋯</th><th scope=col>int_4_post</th><th scope=col>int_5_post</th><th scope=col>int_6_post</th><th scope=col>int_post</th><th scope=col>korr_prä</th><th scope=col>korr_post</th><th scope=col>korr_fu</th><th scope=col>flex_prä</th><th scope=col>flex_post</th><th scope=col>flex_fu</th></tr>\n",
       "\t<tr><th scope=col>&lt;dbl&gt;</th><th scope=col>&lt;dbl+lbl&gt;</th><th scope=col>&lt;dbl+lbl&gt;</th><th scope=col>&lt;dbl&gt;</th><th scope=col>&lt;dbl+lbl&gt;</th><th scope=col>&lt;dbl+lbl&gt;</th><th scope=col>&lt;dbl+lbl&gt;</th><th scope=col>&lt;dbl+lbl&gt;</th><th scope=col>&lt;dbl+lbl&gt;</th><th scope=col>&lt;dbl+lbl&gt;</th><th scope=col>⋯</th><th scope=col>&lt;dbl+lbl&gt;</th><th scope=col>&lt;dbl+lbl&gt;</th><th scope=col>&lt;dbl+lbl&gt;</th><th scope=col>&lt;dbl&gt;</th><th scope=col>&lt;dbl&gt;</th><th scope=col>&lt;dbl&gt;</th><th scope=col>&lt;dbl&gt;</th><th scope=col>&lt;dbl+lbl&gt;</th><th scope=col>&lt;dbl+lbl&gt;</th><th scope=col>&lt;dbl+lbl&gt;</th></tr>\n",
       "</thead>\n",
       "<tbody>\n",
       "\t<tr><td>10101</td><td>0</td><td>1</td><td>10</td><td>4</td><td>1</td><td>4</td><td>4</td><td>4</td><td>4</td><td>⋯</td><td>4</td><td>4</td><td>4</td><td>4.000000</td><td>0.0</td><td>0.3333333</td><td>0.0000000</td><td>0</td><td>4</td><td>1</td></tr>\n",
       "\t<tr><td>10102</td><td>1</td><td>1</td><td> 4</td><td>4</td><td>1</td><td>4</td><td>4</td><td>3</td><td>4</td><td>⋯</td><td>4</td><td>4</td><td>4</td><td>3.833333</td><td>0.0</td><td>0.0000000</td><td>0.0000000</td><td>0</td><td>0</td><td>0</td></tr>\n",
       "\t<tr><td>10103</td><td>0</td><td>1</td><td>11</td><td>4</td><td>1</td><td>4</td><td>4</td><td>3</td><td>3</td><td>⋯</td><td>4</td><td>4</td><td>4</td><td>4.000000</td><td>0.5</td><td>       NA</td><td>       NA</td><td>1</td><td>0</td><td>0</td></tr>\n",
       "\t<tr><td>10107</td><td>1</td><td>1</td><td>10</td><td>4</td><td>1</td><td>4</td><td>4</td><td>4</td><td>4</td><td>⋯</td><td>4</td><td>4</td><td>4</td><td>4.000000</td><td> NA</td><td>0.5000000</td><td>0.0000000</td><td>2</td><td>2</td><td>1</td></tr>\n",
       "\t<tr><td>10108</td><td>0</td><td>0</td><td> 9</td><td>3</td><td>4</td><td>1</td><td>4</td><td>3</td><td>3</td><td>⋯</td><td>4</td><td>4</td><td>4</td><td>4.000000</td><td>0.0</td><td>0.4000000</td><td>0.0000000</td><td>0</td><td>1</td><td>0</td></tr>\n",
       "\t<tr><td>10109</td><td>1</td><td>1</td><td>15</td><td>4</td><td>1</td><td>4</td><td>4</td><td>4</td><td>4</td><td>⋯</td><td>4</td><td>4</td><td>4</td><td>4.000000</td><td>0.2</td><td>0.1666667</td><td>0.3333333</td><td>1</td><td>2</td><td>2</td></tr>\n",
       "</tbody>\n",
       "</table>\n"
      ],
      "text/latex": [
       "A tibble: 6 × 40\n",
       "\\begin{tabular}{lllllllllllllllllllll}\n",
       " ID & gruppe & sex & vorwissen & msk\\_1\\_prä & msk\\_2\\_prä & msk\\_2\\_prä\\_inv & msk\\_3\\_prä & msk\\_4\\_prä & msk\\_5\\_prä & ⋯ & int\\_4\\_post & int\\_5\\_post & int\\_6\\_post & int\\_post & korr\\_prä & korr\\_post & korr\\_fu & flex\\_prä & flex\\_post & flex\\_fu\\\\\n",
       " <dbl> & <dbl+lbl> & <dbl+lbl> & <dbl> & <dbl+lbl> & <dbl+lbl> & <dbl+lbl> & <dbl+lbl> & <dbl+lbl> & <dbl+lbl> & ⋯ & <dbl+lbl> & <dbl+lbl> & <dbl+lbl> & <dbl> & <dbl> & <dbl> & <dbl> & <dbl+lbl> & <dbl+lbl> & <dbl+lbl>\\\\\n",
       "\\hline\n",
       "\t 10101 & 0 & 1 & 10 & 4 & 1 & 4 & 4 & 4 & 4 & ⋯ & 4 & 4 & 4 & 4.000000 & 0.0 & 0.3333333 & 0.0000000 & 0 & 4 & 1\\\\\n",
       "\t 10102 & 1 & 1 &  4 & 4 & 1 & 4 & 4 & 3 & 4 & ⋯ & 4 & 4 & 4 & 3.833333 & 0.0 & 0.0000000 & 0.0000000 & 0 & 0 & 0\\\\\n",
       "\t 10103 & 0 & 1 & 11 & 4 & 1 & 4 & 4 & 3 & 3 & ⋯ & 4 & 4 & 4 & 4.000000 & 0.5 &        NA &        NA & 1 & 0 & 0\\\\\n",
       "\t 10107 & 1 & 1 & 10 & 4 & 1 & 4 & 4 & 4 & 4 & ⋯ & 4 & 4 & 4 & 4.000000 &  NA & 0.5000000 & 0.0000000 & 2 & 2 & 1\\\\\n",
       "\t 10108 & 0 & 0 &  9 & 3 & 4 & 1 & 4 & 3 & 3 & ⋯ & 4 & 4 & 4 & 4.000000 & 0.0 & 0.4000000 & 0.0000000 & 0 & 1 & 0\\\\\n",
       "\t 10109 & 1 & 1 & 15 & 4 & 1 & 4 & 4 & 4 & 4 & ⋯ & 4 & 4 & 4 & 4.000000 & 0.2 & 0.1666667 & 0.3333333 & 1 & 2 & 2\\\\\n",
       "\\end{tabular}\n"
      ],
      "text/markdown": [
       "\n",
       "A tibble: 6 × 40\n",
       "\n",
       "| ID &lt;dbl&gt; | gruppe &lt;dbl+lbl&gt; | sex &lt;dbl+lbl&gt; | vorwissen &lt;dbl&gt; | msk_1_prä &lt;dbl+lbl&gt; | msk_2_prä &lt;dbl+lbl&gt; | msk_2_prä_inv &lt;dbl+lbl&gt; | msk_3_prä &lt;dbl+lbl&gt; | msk_4_prä &lt;dbl+lbl&gt; | msk_5_prä &lt;dbl+lbl&gt; | ⋯ ⋯ | int_4_post &lt;dbl+lbl&gt; | int_5_post &lt;dbl+lbl&gt; | int_6_post &lt;dbl+lbl&gt; | int_post &lt;dbl&gt; | korr_prä &lt;dbl&gt; | korr_post &lt;dbl&gt; | korr_fu &lt;dbl&gt; | flex_prä &lt;dbl+lbl&gt; | flex_post &lt;dbl+lbl&gt; | flex_fu &lt;dbl+lbl&gt; |\n",
       "|---|---|---|---|---|---|---|---|---|---|---|---|---|---|---|---|---|---|---|---|---|\n",
       "| 10101 | 0 | 1 | 10 | 4 | 1 | 4 | 4 | 4 | 4 | ⋯ | 4 | 4 | 4 | 4.000000 | 0.0 | 0.3333333 | 0.0000000 | 0 | 4 | 1 |\n",
       "| 10102 | 1 | 1 |  4 | 4 | 1 | 4 | 4 | 3 | 4 | ⋯ | 4 | 4 | 4 | 3.833333 | 0.0 | 0.0000000 | 0.0000000 | 0 | 0 | 0 |\n",
       "| 10103 | 0 | 1 | 11 | 4 | 1 | 4 | 4 | 3 | 3 | ⋯ | 4 | 4 | 4 | 4.000000 | 0.5 |        NA |        NA | 1 | 0 | 0 |\n",
       "| 10107 | 1 | 1 | 10 | 4 | 1 | 4 | 4 | 4 | 4 | ⋯ | 4 | 4 | 4 | 4.000000 |  NA | 0.5000000 | 0.0000000 | 2 | 2 | 1 |\n",
       "| 10108 | 0 | 0 |  9 | 3 | 4 | 1 | 4 | 3 | 3 | ⋯ | 4 | 4 | 4 | 4.000000 | 0.0 | 0.4000000 | 0.0000000 | 0 | 1 | 0 |\n",
       "| 10109 | 1 | 1 | 15 | 4 | 1 | 4 | 4 | 4 | 4 | ⋯ | 4 | 4 | 4 | 4.000000 | 0.2 | 0.1666667 | 0.3333333 | 1 | 2 | 2 |\n",
       "\n"
      ],
      "text/plain": [
       "  ID    gruppe sex vorwissen msk_1_prä msk_2_prä msk_2_prä_inv msk_3_prä\n",
       "1 10101 0      1   10        4         1         4             4        \n",
       "2 10102 1      1    4        4         1         4             4        \n",
       "3 10103 0      1   11        4         1         4             4        \n",
       "4 10107 1      1   10        4         1         4             4        \n",
       "5 10108 0      0    9        3         4         1             4        \n",
       "6 10109 1      1   15        4         1         4             4        \n",
       "  msk_4_prä msk_5_prä ⋯ int_4_post int_5_post int_6_post int_post korr_prä\n",
       "1 4         4         ⋯ 4          4          4          4.000000 0.0     \n",
       "2 3         4         ⋯ 4          4          4          3.833333 0.0     \n",
       "3 3         3         ⋯ 4          4          4          4.000000 0.5     \n",
       "4 4         4         ⋯ 4          4          4          4.000000  NA     \n",
       "5 3         3         ⋯ 4          4          4          4.000000 0.0     \n",
       "6 4         4         ⋯ 4          4          4          4.000000 0.2     \n",
       "  korr_post korr_fu   flex_prä flex_post flex_fu\n",
       "1 0.3333333 0.0000000 0        4         1      \n",
       "2 0.0000000 0.0000000 0        0         0      \n",
       "3        NA        NA 1        0         0      \n",
       "4 0.5000000 0.0000000 2        2         1      \n",
       "5 0.4000000 0.0000000 0        1         0      \n",
       "6 0.1666667 0.3333333 1        2         2      "
      ]
     },
     "metadata": {},
     "output_type": "display_data"
    }
   ],
   "source": [
    "head(Statistik2_Daten_Unterschiedshypothesen1)"
   ]
  },
  {
   "cell_type": "markdown",
   "metadata": {},
   "source": [
    "Die folgenden Übungsaufgaben beschränken sich auf die parametrischen Verfahren zur Überprüfung von\n",
    "Unterschiedshypothesen – als auf t-Tests. \n",
    "\n",
    "Befehl: t.test()\n",
    "\n",
    "Gebt jeweils die empirischen Kennwerte (Mittelwert, Standardabweichung, Teststatistik) sowie die\n",
    "Interpretation der Ergebnisse an – so wird es von euch auch in der Klausur gefordert werden."
   ]
  },
  {
   "cell_type": "markdown",
   "metadata": {},
   "source": [
    "##1. Beispielaufgabe\n",
    "Damit wir von einer Vergleichbarkeit der beiden Interventionsgruppen ausgehen können,\n",
    "möchten wir überprüfen, ob sich die verschachtelte und die geblockte Bedingung (gruppe) in\n",
    "ihrem Vorwissen (vorwissen) unterscheiden. \n",
    "\n",
    "Überprüft dies.\n",
    "\n",
    "Solltest du nicht wissen wie ein Paket funktioniert kann man mit einem Befehl ? gefolgt von dem Paketnamen eine MAN-Page (Hilfeseite) anfordern."
   ]
  },
  {
   "cell_type": "code",
   "execution_count": null,
   "metadata": {},
   "outputs": [],
   "source": []
  },
  {
   "cell_type": "markdown",
   "metadata": {},
   "source": [
    "Zu aller erst wollen wir die Mittelwerte (M) und Standardabweichung (SD) der beiden Gruppen (gruppe) bezüglich des \n",
    "Vorwissens (vorwissen) ermitteln.\n",
    "\n",
    "Hierfür benutzten wir aus dem Paket psych den Befehl describeBy\n",
    "\n",
    "Wir haben schon gelernt das Befehle von Paketen mittels des Paketnamens (psych) gefolgt von einem :: und dann \n",
    "der gewünschte Befehl (describeBy) aufgerufen werden können."
   ]
  },
  {
   "cell_type": "code",
   "execution_count": null,
   "metadata": {},
   "outputs": [],
   "source": [
    "psych::describeBy(x = Statistik2_Daten_Unterschiedshypothesen1$vorwissen, \n",
    "                  group = Statistik2_Daten_Unterschiedshypothesen1$gruppe)"
   ]
  },
  {
   "cell_type": "markdown",
   "metadata": {},
   "source": [
    "Wir sehen das Gruppe 0 einen Mittelwert (mean) von M = 13.82 mit einer Standartabweichung (sd) von SD = 5.78 aufweist.\n",
    "Gruppe 1 weist die Werte M = 14.12 und SD = 5.87 auf."
   ]
  },
  {
   "cell_type": "code",
   "execution_count": null,
   "metadata": {},
   "outputs": [],
   "source": [
    "t.test(vorwissen ~ gruppe, data=Statistik2_Daten_Unterschiedshypothesen1)"
   ]
  },
  {
   "cell_type": "markdown",
   "metadata": {},
   "source": [
    "Wir sehen das sich die beiden Gruppen nicht signifikant voneienader unterschieden, da der P-Wert (p-value) mit einem Wert von \n",
    "p = 0.7214 über unserem gewünschnten Signifikanznovau von p < 0.05 liegt. "
   ]
  },
  {
   "cell_type": "markdown",
   "metadata": {},
   "source": [
    "##2. Überprüft die Hypothese, dass die Schüler*innen nach der Intervention mehr unterschiedliche\n",
    "Subtraktionsstrategien verwenden (flex_post) also vor der Intervention (flex_prä)"
   ]
  },
  {
   "cell_type": "code",
   "execution_count": null,
   "metadata": {},
   "outputs": [],
   "source": []
  },
  {
   "cell_type": "markdown",
   "metadata": {},
   "source": [
    "##3. Unterscheidet sich die Ausprägung des mathematischen Selbstkonzepts zum Posttest (*msk_post*)\n",
    "zwischen der verschachtelten und der geblockten Lernbedingung (*gruppe*)?"
   ]
  },
  {
   "cell_type": "code",
   "execution_count": null,
   "metadata": {},
   "outputs": [],
   "source": []
  },
  {
   "cell_type": "markdown",
   "metadata": {},
   "source": [
    "##4. Prüft die Hypothese, dass Jungen (sex) über ein höheres Vorwissen im Bereich Arithmetik\n",
    "(vorwissen) verfügen als Mädchen."
   ]
  },
  {
   "cell_type": "code",
   "execution_count": null,
   "metadata": {},
   "outputs": [],
   "source": []
  },
  {
   "cell_type": "markdown",
   "metadata": {},
   "source": [
    "##5. Gibt es einen Unterschied im mathematischen Interesse zwischen Prä- und Postest (int_prä vs.\n",
    "int_post)?"
   ]
  },
  {
   "cell_type": "code",
   "execution_count": null,
   "metadata": {},
   "outputs": [],
   "source": []
  }
 ],
 "metadata": {
  "kernelspec": {
   "display_name": "R",
   "language": "R",
   "name": "ir"
  },
  "language_info": {
   "codemirror_mode": "r",
   "file_extension": ".r",
   "mimetype": "text/x-r-source",
   "name": "R",
   "pygments_lexer": "r",
   "version": "4.0.3"
  }
 },
 "nbformat": 4,
 "nbformat_minor": 4
}
