{
 "cells": [
  {
   "cell_type": "markdown",
   "metadata": {},
   "source": [
    "# Übungen zu Unterschiedshypothesen I\n",
    "\n",
    "### Vorbereitung"
   ]
  },
  {
   "cell_type": "code",
   "execution_count": 1,
   "metadata": {},
   "outputs": [
    {
     "name": "stderr",
     "output_type": "stream",
     "text": [
      "── \u001b[1mAttaching packages\u001b[22m ─────────────────────────────────────── tidyverse 1.3.1 ──\n",
      "\n",
      "\u001b[32m✔\u001b[39m \u001b[34mggplot2\u001b[39m 3.3.3     \u001b[32m✔\u001b[39m \u001b[34mpurrr  \u001b[39m 0.3.4\n",
      "\u001b[32m✔\u001b[39m \u001b[34mtibble \u001b[39m 3.1.1     \u001b[32m✔\u001b[39m \u001b[34mdplyr  \u001b[39m 1.0.6\n",
      "\u001b[32m✔\u001b[39m \u001b[34mtidyr  \u001b[39m 1.1.3     \u001b[32m✔\u001b[39m \u001b[34mstringr\u001b[39m 1.4.0\n",
      "\u001b[32m✔\u001b[39m \u001b[34mreadr  \u001b[39m 1.4.0     \u001b[32m✔\u001b[39m \u001b[34mforcats\u001b[39m 0.5.1\n",
      "\n",
      "── \u001b[1mConflicts\u001b[22m ────────────────────────────────────────── tidyverse_conflicts() ──\n",
      "\u001b[31m✖\u001b[39m \u001b[34mdplyr\u001b[39m::\u001b[32mfilter()\u001b[39m masks \u001b[34mstats\u001b[39m::filter()\n",
      "\u001b[31m✖\u001b[39m \u001b[34mdplyr\u001b[39m::\u001b[32mlag()\u001b[39m    masks \u001b[34mstats\u001b[39m::lag()\n",
      "\n"
     ]
    }
   ],
   "source": [
    "# Das Paket tidyverse wird geladen\n",
    "library(tidyverse);"
   ]
  },
  {
   "cell_type": "code",
   "execution_count": 2,
   "metadata": {},
   "outputs": [
    {
     "name": "stderr",
     "output_type": "stream",
     "text": [
      "Warning message in readChar(con, 5L, useBytes = TRUE):\n",
      "“cannot open compressed file 'Unterschiedshypothesen1.RData', probable reason 'No such file or directory'”\n"
     ]
    },
    {
     "ename": "ERROR",
     "evalue": "Error in readChar(con, 5L, useBytes = TRUE): cannot open the connection\n",
     "output_type": "error",
     "traceback": [
      "Error in readChar(con, 5L, useBytes = TRUE): cannot open the connection\nTraceback:\n",
      "1. load(file = \"Unterschiedshypothesen1.RData\")",
      "2. readChar(con, 5L, useBytes = TRUE)"
     ]
    }
   ],
   "source": [
    "# Läd den Dataframe in die Laufzeitumgebung\n",
    "load(file = \"Unterschiedshypothesen1.RData\")"
   ]
  },
  {
   "cell_type": "code",
   "execution_count": null,
   "metadata": {},
   "outputs": [],
   "source": [
    "# Zeigt alle geladenen Data-Frames und Variablen an\n",
    "ls()"
   ]
  },
  {
   "cell_type": "markdown",
   "metadata": {},
   "source": [
    "### Überprüfen ob der Data-Frame geladen wurde\n",
    "\n",
    "Wir Überprüfen ob der Datensatz \"Statistik2_Daten_Unterschiedshypothesen1\" geladen wurde.\n",
    "\n",
    "Der Befehl head() zeigt dabei die ersten Spalten und Zeilen eines Datenframes an."
   ]
  },
  {
   "cell_type": "code",
   "execution_count": null,
   "metadata": {},
   "outputs": [],
   "source": [
    "head(Unterschiedshypothesen1)"
   ]
  },
  {
   "cell_type": "markdown",
   "metadata": {},
   "source": [
    "# Hinweis\n",
    "\n",
    "Die folgenden Übungsaufgaben beschränken sich auf die parametrischen Verfahren zur Überprüfung von\n",
    "Unterschiedshypothesen – als auf t-Tests. \n",
    "\n",
    "\n",
    "Gebt jeweils die empirischen Kennwerte (Mittelwert, Standardabweichung, Teststatistik) sowie die\n",
    "Interpretation der Ergebnisse an – so wird es von euch auch in der Klausur gefordert werden."
   ]
  },
  {
   "cell_type": "markdown",
   "metadata": {},
   "source": [
    "## Aufgabe 1.\n",
    "Damit wir von einer Vergleichbarkeit der beiden Interventionsgruppen ausgehen können,\n",
    "möchten wir überprüfen, ob sich die verschachtelte und die geblockte Bedingung (gruppe) in\n",
    "ihrem Vorwissen (vorwissen) unterscheiden. Überprüft dies.\n",
    "\n",
    "[![Lösung für A1](img/patch-question-fill.svg)](https://mybinder.org/v2/gh/johannesosterberguniks/uebung1/main?filepath=lösung/loesung_uebung1.ipynb)\n"
   ]
  },
  {
   "cell_type": "code",
   "execution_count": null,
   "metadata": {},
   "outputs": [],
   "source": []
  },
  {
   "cell_type": "markdown",
   "metadata": {},
   "source": [
    "## Aufgabe2. \n",
    "Überprüft die Hypothese, dass die Schüler*innen nach der Intervention mehr unterschiedliche\n",
    "Subtraktionsstrategien verwenden (flex_post) also vor der Intervention (flex_prä)"
   ]
  },
  {
   "cell_type": "code",
   "execution_count": null,
   "metadata": {},
   "outputs": [],
   "source": []
  },
  {
   "cell_type": "markdown",
   "metadata": {},
   "source": [
    "## Aufgabe 3. \n",
    "\n",
    "Unterscheidet sich die Ausprägung des mathematischen Selbstkonzepts zum Posttest (*msk_post*)\n",
    "zwischen der verschachtelten und der geblockten Lernbedingung (*gruppe*)?"
   ]
  },
  {
   "cell_type": "code",
   "execution_count": null,
   "metadata": {},
   "outputs": [],
   "source": []
  },
  {
   "cell_type": "markdown",
   "metadata": {},
   "source": [
    "## Aufgabe 4. \n",
    "Prüft die Hypothese, dass Jungen (sex) über ein höheres Vorwissen im Bereich Arithmetik\n",
    "(vorwissen) verfügen als Mädchen."
   ]
  },
  {
   "cell_type": "code",
   "execution_count": null,
   "metadata": {},
   "outputs": [],
   "source": []
  },
  {
   "cell_type": "markdown",
   "metadata": {},
   "source": [
    "## Aufgabe 5. \n",
    "Gibt es einen Unterschied im mathematischen Interesse zwischen Prä- und Postest (int_prä vs.\n",
    "int_post)?"
   ]
  },
  {
   "cell_type": "code",
   "execution_count": null,
   "metadata": {},
   "outputs": [],
   "source": []
  }
 ],
 "metadata": {
  "kernelspec": {
   "display_name": "R",
   "language": "R",
   "name": "ir"
  },
  "language_info": {
   "codemirror_mode": "r",
   "file_extension": ".r",
   "mimetype": "text/x-r-source",
   "name": "R",
   "pygments_lexer": "r",
   "version": "4.0.3"
  }
 },
 "nbformat": 4,
 "nbformat_minor": 4
}
