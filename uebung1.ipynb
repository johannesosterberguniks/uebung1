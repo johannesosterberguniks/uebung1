{
 "cells": [
  {
   "cell_type": "markdown",
   "metadata": {},
   "source": [
    "# Übungen zu Unterschiedshypothesen I\n",
    "\n",
    "### Vorbereitung"
   ]
  },
  {
   "cell_type": "code",
   "execution_count": 1,
   "metadata": {},
   "outputs": [
    {
     "name": "stderr",
     "output_type": "stream",
     "text": [
      "── \u001b[1mAttaching packages\u001b[22m ─────────────────────────────────────── tidyverse 1.3.1 ──\n",
      "\n",
      "\u001b[32m✔\u001b[39m \u001b[34mggplot2\u001b[39m 3.3.3     \u001b[32m✔\u001b[39m \u001b[34mpurrr  \u001b[39m 0.3.4\n",
      "\u001b[32m✔\u001b[39m \u001b[34mtibble \u001b[39m 3.1.1     \u001b[32m✔\u001b[39m \u001b[34mdplyr  \u001b[39m 1.0.6\n",
      "\u001b[32m✔\u001b[39m \u001b[34mtidyr  \u001b[39m 1.1.3     \u001b[32m✔\u001b[39m \u001b[34mstringr\u001b[39m 1.4.0\n",
      "\u001b[32m✔\u001b[39m \u001b[34mreadr  \u001b[39m 1.4.0     \u001b[32m✔\u001b[39m \u001b[34mforcats\u001b[39m 0.5.1\n",
      "\n",
      "── \u001b[1mConflicts\u001b[22m ────────────────────────────────────────── tidyverse_conflicts() ──\n",
      "\u001b[31m✖\u001b[39m \u001b[34mdplyr\u001b[39m::\u001b[32mfilter()\u001b[39m masks \u001b[34mstats\u001b[39m::filter()\n",
      "\u001b[31m✖\u001b[39m \u001b[34mdplyr\u001b[39m::\u001b[32mlag()\u001b[39m    masks \u001b[34mstats\u001b[39m::lag()\n",
      "\n"
     ]
    }
   ],
   "source": [
    "# Das Paket tidyverse wird geladen\n",
    "library(tidyverse);"
   ]
  },
  {
   "cell_type": "code",
   "execution_count": 2,
   "metadata": {},
   "outputs": [],
   "source": [
    "# Läd den Dataframe (daten) in die Laufzeitumgebung\n",
    "\n",
    "load(file = \"daten_unterschiedshypothesen_1.RData\")"
   ]
  },
  {
   "cell_type": "code",
   "execution_count": 3,
   "metadata": {},
   "outputs": [
    {
     "data": {
      "text/html": [
       "'daten'"
      ],
      "text/latex": [
       "'daten'"
      ],
      "text/markdown": [
       "'daten'"
      ],
      "text/plain": [
       "[1] \"daten\""
      ]
     },
     "metadata": {},
     "output_type": "display_data"
    }
   ],
   "source": [
    "# Zeigt alle geladenen Data-Frames und Variablen an\n",
    "ls()"
   ]
  },
  {
   "cell_type": "markdown",
   "metadata": {},
   "source": [
    "### Überprüfen ob der Data-Frame geladen wurde\n",
    "\n",
    "Wir Überprüfen ob der Datensatz \"Statistik2_Daten_Unterschiedshypothesen1\" geladen wurde.\n",
    "\n",
    "Der Befehl head() zeigt dabei die ersten Spalten und Zeilen eines Datenframes an."
   ]
  },
  {
   "cell_type": "code",
   "execution_count": 4,
   "metadata": {},
   "outputs": [
    {
     "data": {
      "text/html": [
       "<table class=\"dataframe\">\n",
       "<caption>A tibble: 6 × 40</caption>\n",
       "<thead>\n",
       "\t<tr><th scope=col>ID</th><th scope=col>gruppe</th><th scope=col>sex</th><th scope=col>vorwissen</th><th scope=col>msk_1_prä</th><th scope=col>msk_2_prä</th><th scope=col>msk_2_prä_inv</th><th scope=col>msk_3_prä</th><th scope=col>msk_4_prä</th><th scope=col>msk_5_prä</th><th scope=col>⋯</th><th scope=col>int_4_post</th><th scope=col>int_5_post</th><th scope=col>int_6_post</th><th scope=col>int_post</th><th scope=col>korr_prä</th><th scope=col>korr_post</th><th scope=col>korr_fu</th><th scope=col>flex_prä</th><th scope=col>flex_post</th><th scope=col>flex_fu</th></tr>\n",
       "\t<tr><th scope=col>&lt;dbl&gt;</th><th scope=col>&lt;dbl+lbl&gt;</th><th scope=col>&lt;dbl+lbl&gt;</th><th scope=col>&lt;dbl&gt;</th><th scope=col>&lt;dbl+lbl&gt;</th><th scope=col>&lt;dbl+lbl&gt;</th><th scope=col>&lt;dbl+lbl&gt;</th><th scope=col>&lt;dbl+lbl&gt;</th><th scope=col>&lt;dbl+lbl&gt;</th><th scope=col>&lt;dbl+lbl&gt;</th><th scope=col>⋯</th><th scope=col>&lt;dbl+lbl&gt;</th><th scope=col>&lt;dbl+lbl&gt;</th><th scope=col>&lt;dbl+lbl&gt;</th><th scope=col>&lt;dbl&gt;</th><th scope=col>&lt;dbl&gt;</th><th scope=col>&lt;dbl&gt;</th><th scope=col>&lt;dbl&gt;</th><th scope=col>&lt;dbl+lbl&gt;</th><th scope=col>&lt;dbl+lbl&gt;</th><th scope=col>&lt;dbl+lbl&gt;</th></tr>\n",
       "</thead>\n",
       "<tbody>\n",
       "\t<tr><td>10101</td><td>0</td><td>1</td><td>10</td><td>4</td><td>1</td><td>4</td><td>4</td><td>4</td><td>4</td><td>⋯</td><td>4</td><td>4</td><td>4</td><td>4.000000</td><td>0.0</td><td>0.3333333</td><td>0.0000000</td><td>0</td><td>4</td><td>1</td></tr>\n",
       "\t<tr><td>10102</td><td>1</td><td>1</td><td> 4</td><td>4</td><td>1</td><td>4</td><td>4</td><td>3</td><td>4</td><td>⋯</td><td>4</td><td>4</td><td>4</td><td>3.833333</td><td>0.0</td><td>0.0000000</td><td>0.0000000</td><td>0</td><td>0</td><td>0</td></tr>\n",
       "\t<tr><td>10103</td><td>0</td><td>1</td><td>11</td><td>4</td><td>1</td><td>4</td><td>4</td><td>3</td><td>3</td><td>⋯</td><td>4</td><td>4</td><td>4</td><td>4.000000</td><td>0.5</td><td>       NA</td><td>       NA</td><td>1</td><td>0</td><td>0</td></tr>\n",
       "\t<tr><td>10107</td><td>1</td><td>1</td><td>10</td><td>4</td><td>1</td><td>4</td><td>4</td><td>4</td><td>4</td><td>⋯</td><td>4</td><td>4</td><td>4</td><td>4.000000</td><td> NA</td><td>0.5000000</td><td>0.0000000</td><td>2</td><td>2</td><td>1</td></tr>\n",
       "\t<tr><td>10108</td><td>0</td><td>0</td><td> 9</td><td>3</td><td>4</td><td>1</td><td>4</td><td>3</td><td>3</td><td>⋯</td><td>4</td><td>4</td><td>4</td><td>4.000000</td><td>0.0</td><td>0.4000000</td><td>0.0000000</td><td>0</td><td>1</td><td>0</td></tr>\n",
       "\t<tr><td>10109</td><td>1</td><td>1</td><td>15</td><td>4</td><td>1</td><td>4</td><td>4</td><td>4</td><td>4</td><td>⋯</td><td>4</td><td>4</td><td>4</td><td>4.000000</td><td>0.2</td><td>0.1666667</td><td>0.3333333</td><td>1</td><td>2</td><td>2</td></tr>\n",
       "</tbody>\n",
       "</table>\n"
      ],
      "text/latex": [
       "A tibble: 6 × 40\n",
       "\\begin{tabular}{lllllllllllllllllllll}\n",
       " ID & gruppe & sex & vorwissen & msk\\_1\\_prä & msk\\_2\\_prä & msk\\_2\\_prä\\_inv & msk\\_3\\_prä & msk\\_4\\_prä & msk\\_5\\_prä & ⋯ & int\\_4\\_post & int\\_5\\_post & int\\_6\\_post & int\\_post & korr\\_prä & korr\\_post & korr\\_fu & flex\\_prä & flex\\_post & flex\\_fu\\\\\n",
       " <dbl> & <dbl+lbl> & <dbl+lbl> & <dbl> & <dbl+lbl> & <dbl+lbl> & <dbl+lbl> & <dbl+lbl> & <dbl+lbl> & <dbl+lbl> & ⋯ & <dbl+lbl> & <dbl+lbl> & <dbl+lbl> & <dbl> & <dbl> & <dbl> & <dbl> & <dbl+lbl> & <dbl+lbl> & <dbl+lbl>\\\\\n",
       "\\hline\n",
       "\t 10101 & 0 & 1 & 10 & 4 & 1 & 4 & 4 & 4 & 4 & ⋯ & 4 & 4 & 4 & 4.000000 & 0.0 & 0.3333333 & 0.0000000 & 0 & 4 & 1\\\\\n",
       "\t 10102 & 1 & 1 &  4 & 4 & 1 & 4 & 4 & 3 & 4 & ⋯ & 4 & 4 & 4 & 3.833333 & 0.0 & 0.0000000 & 0.0000000 & 0 & 0 & 0\\\\\n",
       "\t 10103 & 0 & 1 & 11 & 4 & 1 & 4 & 4 & 3 & 3 & ⋯ & 4 & 4 & 4 & 4.000000 & 0.5 &        NA &        NA & 1 & 0 & 0\\\\\n",
       "\t 10107 & 1 & 1 & 10 & 4 & 1 & 4 & 4 & 4 & 4 & ⋯ & 4 & 4 & 4 & 4.000000 &  NA & 0.5000000 & 0.0000000 & 2 & 2 & 1\\\\\n",
       "\t 10108 & 0 & 0 &  9 & 3 & 4 & 1 & 4 & 3 & 3 & ⋯ & 4 & 4 & 4 & 4.000000 & 0.0 & 0.4000000 & 0.0000000 & 0 & 1 & 0\\\\\n",
       "\t 10109 & 1 & 1 & 15 & 4 & 1 & 4 & 4 & 4 & 4 & ⋯ & 4 & 4 & 4 & 4.000000 & 0.2 & 0.1666667 & 0.3333333 & 1 & 2 & 2\\\\\n",
       "\\end{tabular}\n"
      ],
      "text/markdown": [
       "\n",
       "A tibble: 6 × 40\n",
       "\n",
       "| ID &lt;dbl&gt; | gruppe &lt;dbl+lbl&gt; | sex &lt;dbl+lbl&gt; | vorwissen &lt;dbl&gt; | msk_1_prä &lt;dbl+lbl&gt; | msk_2_prä &lt;dbl+lbl&gt; | msk_2_prä_inv &lt;dbl+lbl&gt; | msk_3_prä &lt;dbl+lbl&gt; | msk_4_prä &lt;dbl+lbl&gt; | msk_5_prä &lt;dbl+lbl&gt; | ⋯ ⋯ | int_4_post &lt;dbl+lbl&gt; | int_5_post &lt;dbl+lbl&gt; | int_6_post &lt;dbl+lbl&gt; | int_post &lt;dbl&gt; | korr_prä &lt;dbl&gt; | korr_post &lt;dbl&gt; | korr_fu &lt;dbl&gt; | flex_prä &lt;dbl+lbl&gt; | flex_post &lt;dbl+lbl&gt; | flex_fu &lt;dbl+lbl&gt; |\n",
       "|---|---|---|---|---|---|---|---|---|---|---|---|---|---|---|---|---|---|---|---|---|\n",
       "| 10101 | 0 | 1 | 10 | 4 | 1 | 4 | 4 | 4 | 4 | ⋯ | 4 | 4 | 4 | 4.000000 | 0.0 | 0.3333333 | 0.0000000 | 0 | 4 | 1 |\n",
       "| 10102 | 1 | 1 |  4 | 4 | 1 | 4 | 4 | 3 | 4 | ⋯ | 4 | 4 | 4 | 3.833333 | 0.0 | 0.0000000 | 0.0000000 | 0 | 0 | 0 |\n",
       "| 10103 | 0 | 1 | 11 | 4 | 1 | 4 | 4 | 3 | 3 | ⋯ | 4 | 4 | 4 | 4.000000 | 0.5 |        NA |        NA | 1 | 0 | 0 |\n",
       "| 10107 | 1 | 1 | 10 | 4 | 1 | 4 | 4 | 4 | 4 | ⋯ | 4 | 4 | 4 | 4.000000 |  NA | 0.5000000 | 0.0000000 | 2 | 2 | 1 |\n",
       "| 10108 | 0 | 0 |  9 | 3 | 4 | 1 | 4 | 3 | 3 | ⋯ | 4 | 4 | 4 | 4.000000 | 0.0 | 0.4000000 | 0.0000000 | 0 | 1 | 0 |\n",
       "| 10109 | 1 | 1 | 15 | 4 | 1 | 4 | 4 | 4 | 4 | ⋯ | 4 | 4 | 4 | 4.000000 | 0.2 | 0.1666667 | 0.3333333 | 1 | 2 | 2 |\n",
       "\n"
      ],
      "text/plain": [
       "  ID    gruppe sex vorwissen msk_1_prä msk_2_prä msk_2_prä_inv msk_3_prä\n",
       "1 10101 0      1   10        4         1         4             4        \n",
       "2 10102 1      1    4        4         1         4             4        \n",
       "3 10103 0      1   11        4         1         4             4        \n",
       "4 10107 1      1   10        4         1         4             4        \n",
       "5 10108 0      0    9        3         4         1             4        \n",
       "6 10109 1      1   15        4         1         4             4        \n",
       "  msk_4_prä msk_5_prä ⋯ int_4_post int_5_post int_6_post int_post korr_prä\n",
       "1 4         4         ⋯ 4          4          4          4.000000 0.0     \n",
       "2 3         4         ⋯ 4          4          4          3.833333 0.0     \n",
       "3 3         3         ⋯ 4          4          4          4.000000 0.5     \n",
       "4 4         4         ⋯ 4          4          4          4.000000  NA     \n",
       "5 3         3         ⋯ 4          4          4          4.000000 0.0     \n",
       "6 4         4         ⋯ 4          4          4          4.000000 0.2     \n",
       "  korr_post korr_fu   flex_prä flex_post flex_fu\n",
       "1 0.3333333 0.0000000 0        4         1      \n",
       "2 0.0000000 0.0000000 0        0         0      \n",
       "3        NA        NA 1        0         0      \n",
       "4 0.5000000 0.0000000 2        2         1      \n",
       "5 0.4000000 0.0000000 0        1         0      \n",
       "6 0.1666667 0.3333333 1        2         2      "
      ]
     },
     "metadata": {},
     "output_type": "display_data"
    }
   ],
   "source": [
    "head(daten)"
   ]
  },
  {
   "cell_type": "markdown",
   "metadata": {},
   "source": [
    "# Hinweis\n",
    "\n",
    "Die folgenden Übungsaufgaben beschränken sich auf die parametrischen Verfahren zur Überprüfung von\n",
    "Unterschiedshypothesen – als auf t-Tests. \n",
    "\n",
    "\n",
    "Gebt jeweils die empirischen Kennwerte (Mittelwert, Standardabweichung, Teststatistik) sowie die\n",
    "Interpretation der Ergebnisse an – so wird es von euch auch in der Klausur gefordert werden."
   ]
  },
  {
   "cell_type": "markdown",
   "metadata": {},
   "source": [
    "## Aufgabe 1.\n",
    "Damit wir von einer Vergleichbarkeit der beiden Interventionsgruppen ausgehen können,\n",
    "möchten wir überprüfen, ob sich die verschachtelte und die geblockte Bedingung (gruppe) in\n",
    "ihrem Vorwissen (vorwissen) unterscheiden. Überprüft dies.\n",
    "\n",
    "\n",
    "[Lösung Aufgabe 1.](#Lösung-Aufgabe-1.)"
   ]
  },
  {
   "cell_type": "code",
   "execution_count": null,
   "metadata": {},
   "outputs": [],
   "source": []
  },
  {
   "cell_type": "markdown",
   "metadata": {},
   "source": [
    "## Aufgabe 2.\n",
    "Überprüft die Hypothese, dass die Schüler*innen nach der Intervention mehr unterschiedliche\n",
    "Subtraktionsstrategien verwenden (flex_post) also vor der Intervention (flex_prä)\n",
    "\n",
    "[Lösung Aufgabe 2.](#Lösung-Aufgabe-2.)"
   ]
  },
  {
   "cell_type": "code",
   "execution_count": null,
   "metadata": {},
   "outputs": [],
   "source": []
  },
  {
   "cell_type": "markdown",
   "metadata": {},
   "source": [
    "## Aufgabe 3. \n",
    "\n",
    "Unterscheidet sich die Ausprägung des mathematischen Selbstkonzepts zum Posttest (*msk_post*)\n",
    "zwischen der verschachtelten und der geblockten Lernbedingung (*gruppe*)?\n",
    "\n",
    "[Lösung Aufgabe 3.](#Lösung-Aufgabe-3.)"
   ]
  },
  {
   "cell_type": "code",
   "execution_count": null,
   "metadata": {},
   "outputs": [],
   "source": []
  },
  {
   "cell_type": "markdown",
   "metadata": {},
   "source": [
    "## Aufgabe 4. \n",
    "Prüft die Hypothese, dass Jungen (sex) über ein höheres Vorwissen im Bereich Arithmetik\n",
    "(vorwissen) verfügen als Mädchen.\n",
    "\n",
    "[Lösung Aufgabe 4.](#Lösung-Aufgabe-4.)"
   ]
  },
  {
   "cell_type": "code",
   "execution_count": null,
   "metadata": {},
   "outputs": [],
   "source": []
  },
  {
   "cell_type": "markdown",
   "metadata": {},
   "source": [
    "## Aufgabe 5. \n",
    "Gibt es einen Unterschied im mathematischen Interesse zwischen Prä- und Postest (int_prä vs.\n",
    "int_post)?\n",
    "\n",
    "[Lösung Aufgabe 5.](#Lösung-Aufgabe-5.)"
   ]
  },
  {
   "cell_type": "code",
   "execution_count": null,
   "metadata": {},
   "outputs": [],
   "source": []
  },
  {
   "cell_type": "markdown",
   "metadata": {},
   "source": [
    "### Weiterführende Literatur\n",
    "\n",
    "* Kubinger, K. D., Rasch, D., & Moder, K. (2009). Zur Legende der Voraussetzungen des t -Tests für unabhängige Stichproben. *Psychologische Rundschau, 60*(1), 26–27.\n",
    "[doi:10.1026/0033-3042.60.1.26](https://doi.org/10.1026/0033-3042.60.1.26)\n",
    "\n",
    "* Rasch, D., Kubinger, K. D., & Moder, K. (2011). The two-sample t test: Pre-testing its assumptions does not pay off. *Statistical Papers, 52*(1), 219–231.\n",
    "[doi:10.1007/s00362-009-0224-x](https://doi.org/10.1007/s00362-009-0224-x)\n"
   ]
  },
  {
   "cell_type": "markdown",
   "metadata": {},
   "source": [
    "# Lösungen"
   ]
  },
  {
   "cell_type": "markdown",
   "metadata": {},
   "source": [
    "## Lösung Aufgabe 1.\n",
    "Damit wir von einer Vergleichbarkeit der beiden Interventionsgruppen ausgehen können, möchten wir überprüfen, ob sich die verschachtelte und die geblockte Bedingung (gruppe) in ihrem Vorwissen (vorwissen) unterscheiden. Überprüft dies.\n",
    "\n",
    "**Statistisches Verfahren:t-Test für unabhängige Stichproben bzw. Welch-Test für unabhängige Stichproben.**"
   ]
  },
  {
   "cell_type": "code",
   "execution_count": 5,
   "metadata": {},
   "outputs": [
    {
     "data": {
      "text/plain": [
       "<labelled<double>[195]>: Lernbedingung\n",
       "  [1] 0 1 0 1 0 1 1 1 0 1 0 1 1 0 1 1 0 1 0 1 0 0 1 1 0 1 0 1 1 0 1 0 1 0 1 1 0\n",
       " [38] 1 1 0 0 1 0 0 1 1 0 1 0 1 1 1 0 0 0 1 0 0 1 1 1 1 0 1 0 1 0 1 0 1 0 1 0 0\n",
       " [75] 1 0 1 0 1 0 1 0 1 1 0 1 0 1 0 1 0 0 0 1 0 0 1 0 1 0 0 0 1 1 0 0 0 1 0 1 1\n",
       "[112] 0 1 1 0 0 0 1 0 0 1 0 1 1 1 0 0 0 1 1 0 0 0 1 0 1 0 0 1 1 1 0 1 1 0 1 0 1\n",
       "[149] 1 1 0 0 0 0 0 1 1 1 1 1 1 1 0 0 0 1 1 1 0 1 0 0 0 0 1 0 0 0 1 1 0 1 0 1 0\n",
       "[186] 0 0 0 0 0 1 0 1 0 1\n",
       "\n",
       "Labels:\n",
       " value         label\n",
       "     0 verschachtelt\n",
       "     1      geblockt"
      ]
     },
     "metadata": {},
     "output_type": "display_data"
    },
    {
     "data": {
      "text/plain": [
       "\n",
       " Descriptive statistics by group \n",
       "group: 0\n",
       "   vars  n  mean   sd median trimmed  mad min max range  skew kurtosis   se\n",
       "X1    1 98 13.82 5.78   14.5   14.04 6.67   0  25    25 -0.28    -0.63 0.58\n",
       "------------------------------------------------------------ \n",
       "group: 1\n",
       "   vars  n  mean   sd median trimmed  mad min max range skew kurtosis  se\n",
       "X1    1 95 14.12 5.87     14   14.06 7.41   0  26    26 0.04    -0.79 0.6"
      ]
     },
     "metadata": {},
     "output_type": "display_data"
    }
   ],
   "source": [
    "# Es ist sinvoll die Labels der Daten zu wissen.\n",
    "# Mit einem einfachen Aufruf der Variable Gruppe des Datanframes Daten,\n",
    "# können wir erfahren das die verschachtelt Gruppe den Wert 0 zugewisen bekommen hatte und\n",
    "# die geblockt Gruppe den Wert 1\n",
    "daten$gruppe\n",
    "\n",
    "psych::describeBy(x = daten$vorwissen, \n",
    "                  group = as.factor(daten$gruppe))"
   ]
  },
  {
   "cell_type": "markdown",
   "metadata": {},
   "source": [
    "**Empirische Kennwerte:**\n",
    "\n",
    "verschachtelt: *M* = 13.82, *SD* = 5.78\n",
    "\n",
    "geblockt: *M* = 14.12, *SD* = 5.87"
   ]
  },
  {
   "cell_type": "code",
   "execution_count": 6,
   "metadata": {},
   "outputs": [
    {
     "data": {
      "text/plain": [
       "\n",
       "\tWelch Two Sample t-test\n",
       "\n",
       "data:  daten$vorwissen by as.factor(daten$gruppe)\n",
       "t = -0.35709, df = 190.57, p-value = 0.7214\n",
       "alternative hypothesis: true difference in means is not equal to 0\n",
       "95 percent confidence interval:\n",
       " -1.953630  1.354704\n",
       "sample estimates:\n",
       "mean in group 0 mean in group 1 \n",
       "       13.81633        14.11579 \n"
      ]
     },
     "metadata": {},
     "output_type": "display_data"
    },
    {
     "data": {
      "text/plain": [
       "\n",
       "Cohen's d\n",
       "\n",
       "d estimate: -0.05142713 (negligible)\n",
       "95 percent confidence interval:\n",
       "     lower      upper \n",
       "-0.3354702  0.2326160 \n"
      ]
     },
     "metadata": {},
     "output_type": "display_data"
    }
   ],
   "source": [
    "# Der Befehl t.test unterstützt unterschiedliche t-test Verfahren.\n",
    "# Hier wird ein Welch t-test für unabhängige Stichproben durchgeführt.\n",
    "# Es ist sinvoll die Variable gruppe des Datenframes Unterschiedshypothesen1 als Faktor zu betrachten.\n",
    "# Dies geschiet über den Befehl as.factor()\n",
    "\n",
    "t.test(daten$vorwissen ~ as.factor(daten$gruppe))\n",
    "\n",
    "# Das Paket effsize kann mit dem Befehl cohen.d() die Effektstärle Cohen's d berechnen.\n",
    "# Dabei können alle Parameter des übrigens T-Tests übernommen werden.\n",
    "# Auch hier ist zu beachten das die Variable gruppe des Datenframes Unterschiedshypothesen1 als Faktor gelesen werden muss\n",
    "\n",
    "effsize::cohen.d(daten$vorwissen ~ as.factor(daten$gruppe))"
   ]
  },
  {
   "cell_type": "markdown",
   "metadata": {},
   "source": [
    "**Ergebnis:**\n",
    "\n",
    "t(191) = -0.36, p = .72, d = -0.05\n",
    "\n",
    "**Interpretation:** Es gibt keinen signifikanten Unterschied im Vorwissen zwischen der\n",
    "verschachtelten und der geblockten Bedingung – damit sind die beiden Interventionsgruppen\n",
    "bezüglich ihres Vorwissens vergleichbar. \n",
    "\n",
    "[Zurück zu Aufgabe 1](#Aufgabe-1.)"
   ]
  },
  {
   "cell_type": "markdown",
   "metadata": {},
   "source": [
    "## Lösung Aufgabe 2.\n",
    "\n",
    "Überprüft die Hypothese, dass die Schüler*innen nach der Intervention mehr unterschiedliche\n",
    "Subtraktionsstrategien verwenden (flex_post) also vor der Intervention (flex_prä).\n",
    "\n",
    "**Statistisches Verfahren: t-Test für abhängige Stichproben**"
   ]
  },
  {
   "cell_type": "code",
   "execution_count": 7,
   "metadata": {},
   "outputs": [
    {
     "data": {
      "text/html": [
       "<table class=\"dataframe\">\n",
       "<caption>A psych: 2 × 13</caption>\n",
       "<thead>\n",
       "\t<tr><th></th><th scope=col>vars</th><th scope=col>n</th><th scope=col>mean</th><th scope=col>sd</th><th scope=col>median</th><th scope=col>trimmed</th><th scope=col>mad</th><th scope=col>min</th><th scope=col>max</th><th scope=col>range</th><th scope=col>skew</th><th scope=col>kurtosis</th><th scope=col>se</th></tr>\n",
       "\t<tr><th></th><th scope=col>&lt;int&gt;</th><th scope=col>&lt;dbl&gt;</th><th scope=col>&lt;dbl&gt;</th><th scope=col>&lt;dbl&gt;</th><th scope=col>&lt;dbl&gt;</th><th scope=col>&lt;dbl&gt;</th><th scope=col>&lt;dbl&gt;</th><th scope=col>&lt;dbl&gt;</th><th scope=col>&lt;dbl&gt;</th><th scope=col>&lt;dbl&gt;</th><th scope=col>&lt;dbl&gt;</th><th scope=col>&lt;dbl&gt;</th><th scope=col>&lt;dbl&gt;</th></tr>\n",
       "</thead>\n",
       "<tbody>\n",
       "\t<tr><th scope=row>flex_prä</th><td>1</td><td>195</td><td>0.9435897</td><td>0.5849464</td><td>1</td><td>0.9171975</td><td>0.0000</td><td>0</td><td>3</td><td>3</td><td> 0.31434533</td><td> 1.051705</td><td>0.04188888</td></tr>\n",
       "\t<tr><th scope=row>flex_post</th><td>2</td><td>195</td><td>1.7794872</td><td>1.1340966</td><td>2</td><td>1.8025478</td><td>1.4826</td><td>0</td><td>4</td><td>4</td><td>-0.04866951</td><td>-1.085641</td><td>0.08121434</td></tr>\n",
       "</tbody>\n",
       "</table>\n"
      ],
      "text/latex": [
       "A psych: 2 × 13\n",
       "\\begin{tabular}{r|lllllllllllll}\n",
       "  & vars & n & mean & sd & median & trimmed & mad & min & max & range & skew & kurtosis & se\\\\\n",
       "  & <int> & <dbl> & <dbl> & <dbl> & <dbl> & <dbl> & <dbl> & <dbl> & <dbl> & <dbl> & <dbl> & <dbl> & <dbl>\\\\\n",
       "\\hline\n",
       "\tflex\\_prä & 1 & 195 & 0.9435897 & 0.5849464 & 1 & 0.9171975 & 0.0000 & 0 & 3 & 3 &  0.31434533 &  1.051705 & 0.04188888\\\\\n",
       "\tflex\\_post & 2 & 195 & 1.7794872 & 1.1340966 & 2 & 1.8025478 & 1.4826 & 0 & 4 & 4 & -0.04866951 & -1.085641 & 0.08121434\\\\\n",
       "\\end{tabular}\n"
      ],
      "text/markdown": [
       "\n",
       "A psych: 2 × 13\n",
       "\n",
       "| <!--/--> | vars &lt;int&gt; | n &lt;dbl&gt; | mean &lt;dbl&gt; | sd &lt;dbl&gt; | median &lt;dbl&gt; | trimmed &lt;dbl&gt; | mad &lt;dbl&gt; | min &lt;dbl&gt; | max &lt;dbl&gt; | range &lt;dbl&gt; | skew &lt;dbl&gt; | kurtosis &lt;dbl&gt; | se &lt;dbl&gt; |\n",
       "|---|---|---|---|---|---|---|---|---|---|---|---|---|---|\n",
       "| flex_prä | 1 | 195 | 0.9435897 | 0.5849464 | 1 | 0.9171975 | 0.0000 | 0 | 3 | 3 |  0.31434533 |  1.051705 | 0.04188888 |\n",
       "| flex_post | 2 | 195 | 1.7794872 | 1.1340966 | 2 | 1.8025478 | 1.4826 | 0 | 4 | 4 | -0.04866951 | -1.085641 | 0.08121434 |\n",
       "\n"
      ],
      "text/plain": [
       "          vars n   mean      sd        median trimmed   mad    min max range\n",
       "flex_prä  1    195 0.9435897 0.5849464 1      0.9171975 0.0000 0   3   3    \n",
       "flex_post 2    195 1.7794872 1.1340966 2      1.8025478 1.4826 0   4   4    \n",
       "          skew        kurtosis  se        \n",
       "flex_prä   0.31434533  1.051705 0.04188888\n",
       "flex_post -0.04866951 -1.085641 0.08121434"
      ]
     },
     "metadata": {},
     "output_type": "display_data"
    }
   ],
   "source": [
    "psych::describe(daten %>% select(flex_prä,flex_post))"
   ]
  },
  {
   "cell_type": "markdown",
   "metadata": {},
   "source": [
    "**Empirische Kennwerte:**\n",
    "\n",
    "Prä: *M* = 0.94, *SD* = 0.58\n",
    "\n",
    "Post: *M* = 1.78, *SD* = 1.13"
   ]
  },
  {
   "cell_type": "code",
   "execution_count": 8,
   "metadata": {},
   "outputs": [
    {
     "data": {
      "text/plain": [
       "\n",
       "\tPaired t-test\n",
       "\n",
       "data:  daten$flex_prä and daten$flex_post\n",
       "t = -9.4063, df = 194, p-value < 2.2e-16\n",
       "alternative hypothesis: true difference in means is not equal to 0\n",
       "95 percent confidence interval:\n",
       " -1.0111646 -0.6606302\n",
       "sample estimates:\n",
       "mean of the differences \n",
       "             -0.8358974 \n"
      ]
     },
     "metadata": {},
     "output_type": "display_data"
    },
    {
     "data": {
      "text/plain": [
       "\n",
       "Cohen's d\n",
       "\n",
       "d estimate: -0.920331 (large)\n",
       "95 percent confidence interval:\n",
       "     lower      upper \n",
       "-1.1498455 -0.6908164 \n"
      ]
     },
     "metadata": {},
     "output_type": "display_data"
    }
   ],
   "source": [
    "# Es ist wichtig dem Befehl t.test den Parameter (paired = FALSE) anzufügen, \n",
    "# da so ein Welch t-test für verbundene Stichproben berechnent wurd \n",
    "\n",
    "t.test(daten$flex_prä,\n",
    "       daten$flex_post,\n",
    "       paired = TRUE)\n",
    "\n",
    "\n",
    "effsize::cohen.d(daten$flex_prä,\n",
    "                 daten$flex_post,\n",
    "                 paired = TRUE)"
   ]
  },
  {
   "cell_type": "markdown",
   "metadata": {},
   "source": [
    "**Ergebnis:**\n",
    "t(194) = -9.41, *p* < .001, *d* = -0.92\n",
    "\n",
    "**Interpretation:** \n",
    "Die Schüler*innen nutzen zum Posttest signifikant mehr unterschiedliche\n",
    "Strategien als zum Prätest. Dieser Unterschied ist praktisch bedeutsam. Es handelt sich hierbei\n",
    "mit Cohen’s *d* = -0.92 um einen großen Effekt."
   ]
  },
  {
   "cell_type": "markdown",
   "metadata": {},
   "source": [
    "[Zurück zu Aufgabe 2](#Aufgabe-2.)"
   ]
  },
  {
   "cell_type": "markdown",
   "metadata": {},
   "source": [
    "## Lösung Aufgabe 3.\n",
    "\n",
    "Unterscheidet sich die Ausprägung des mathematischen Selbstkonzepts zum Posttest (msk_post) zwischen der verschachtelten und der geblockten Lernbedingung (gruppe)?\n",
    "\n",
    "**Statistisches Verfahren:t-Test für unabhängige Stichproben bzw. Welch-Test für unabhängige Stichproben.**"
   ]
  },
  {
   "cell_type": "code",
   "execution_count": 9,
   "metadata": {},
   "outputs": [
    {
     "data": {
      "text/plain": [
       "<labelled<double>[195]>: Lernbedingung\n",
       "  [1] 0 1 0 1 0 1 1 1 0 1 0 1 1 0 1 1 0 1 0 1 0 0 1 1 0 1 0 1 1 0 1 0 1 0 1 1 0\n",
       " [38] 1 1 0 0 1 0 0 1 1 0 1 0 1 1 1 0 0 0 1 0 0 1 1 1 1 0 1 0 1 0 1 0 1 0 1 0 0\n",
       " [75] 1 0 1 0 1 0 1 0 1 1 0 1 0 1 0 1 0 0 0 1 0 0 1 0 1 0 0 0 1 1 0 0 0 1 0 1 1\n",
       "[112] 0 1 1 0 0 0 1 0 0 1 0 1 1 1 0 0 0 1 1 0 0 0 1 0 1 0 0 1 1 1 0 1 1 0 1 0 1\n",
       "[149] 1 1 0 0 0 0 0 1 1 1 1 1 1 1 0 0 0 1 1 1 0 1 0 0 0 0 1 0 0 0 1 1 0 1 0 1 0\n",
       "[186] 0 0 0 0 0 1 0 1 0 1\n",
       "\n",
       "Labels:\n",
       " value         label\n",
       "     0 verschachtelt\n",
       "     1      geblockt"
      ]
     },
     "metadata": {},
     "output_type": "display_data"
    },
    {
     "data": {
      "text/plain": [
       "\n",
       " Descriptive statistics by group \n",
       "group: 0\n",
       "   vars  n mean   sd median trimmed  mad min max range  skew kurtosis   se\n",
       "X1    1 93 3.26 0.64    3.4    3.33 0.59 1.4   4   2.6 -0.78    -0.07 0.07\n",
       "------------------------------------------------------------ \n",
       "group: 1\n",
       "   vars  n mean   sd median trimmed  mad min max range  skew kurtosis   se\n",
       "X1    1 91 3.31 0.54    3.4    3.37 0.59 1.6   4   2.4 -0.97     1.05 0.06"
      ]
     },
     "metadata": {},
     "output_type": "display_data"
    }
   ],
   "source": [
    "daten$gruppe\n",
    "\n",
    "psych::describeBy(x = daten$msk_post, \n",
    "                  group = as.factor(daten$gruppe))"
   ]
  },
  {
   "cell_type": "markdown",
   "metadata": {},
   "source": [
    "**Empirische Kennwerte:**\n",
    "\n",
    "verschachtelt: *M* = 3.26, *SD* = 0.64\n",
    "\n",
    "geblockt: *M* = 3.31, *SD* = 0.54"
   ]
  },
  {
   "cell_type": "markdown",
   "metadata": {},
   "source": [
    "<iframe src=\"https://www.youtube.com/embed/5L3wKniOnro?autoplay=1\" width=\"600\" height=\"400\" allow=\"accelerometer; clipboard-write; encrypted-media; gyroscope; picture-in-picture\" allowfullscreen></iframe>\n"
   ]
  },
  {
   "cell_type": "code",
   "execution_count": 10,
   "metadata": {},
   "outputs": [
    {
     "data": {
      "text/plain": [
       "\n",
       "\tWelch Two Sample t-test\n",
       "\n",
       "data:  daten$msk_post by as.factor(daten$gruppe)\n",
       "t = -0.62969, df = 178.19, p-value = 0.5297\n",
       "alternative hypothesis: true difference in means is not equal to 0\n",
       "95 percent confidence interval:\n",
       " -0.2276738  0.1175238\n",
       "sample estimates:\n",
       "mean in group 0 mean in group 1 \n",
       "       3.255914        3.310989 \n"
      ]
     },
     "metadata": {},
     "output_type": "display_data"
    },
    {
     "data": {
      "text/plain": [
       "\n",
       "Cohen's d\n",
       "\n",
       "d estimate: -0.09267771 (negligible)\n",
       "95 percent confidence interval:\n",
       "     lower      upper \n",
       "-0.3837664  0.1984110 \n"
      ]
     },
     "metadata": {},
     "output_type": "display_data"
    }
   ],
   "source": [
    "t.test(daten$msk_post ~ as.factor(daten$gruppe))\n",
    "\n",
    "effsize::cohen.d(daten$msk_post ~ as.factor(daten$gruppe))"
   ]
  },
  {
   "cell_type": "markdown",
   "metadata": {},
   "source": [
    "**Ergebnis:**\n",
    "t(178.19) = -0.63, *p* = 0.53, *d* = -0.09\n",
    "\n",
    "**Interpretation:** Es gibt keinen signifikanten Unterschied im mathematischen Selbstkonzept zum\n",
    "Posttest zwischen der verschachtelten und der geblockten Lernbedingung."
   ]
  },
  {
   "cell_type": "markdown",
   "metadata": {},
   "source": [
    "## Lösung Aufgabe 4.\n",
    "\n",
    "Prüft die Hypothese, dass Jungen (sex) über ein höheres Vorwissen im Bereich Arithmetik\n",
    "(vorwissen) verfügen als Mädchen.\n",
    "\n",
    "**Statistisches Verfahren:t-Test für unabhängige Stichproben bzw. Welch-Test für unabhängige Stichproben.**"
   ]
  },
  {
   "cell_type": "code",
   "execution_count": 11,
   "metadata": {},
   "outputs": [
    {
     "data": {
      "text/plain": [
       "<labelled<double>[195]>: Geschlecht\n",
       "  [1] 1 1 1 1 0 1 1 0 0 0 0 0 1 1 1 0 0 1 0 1 0 1 0 1 0 0 0 1 0 1 0 1 1 1 1 0 0\n",
       " [38] 1 1 1 1 1 1 1 1 0 1 1 1 1 0 0 0 0 1 0 1 1 1 0 1 1 0 1 1 0 0 0 0 0 1 0 1 1\n",
       " [75] 1 1 1 0 1 1 0 1 0 1 1 0 1 1 1 1 1 0 1 1 0 1 0 0 1 1 1 0 1 1 0 1 0 0 1 0 0\n",
       "[112] 1 0 1 0 1 0 1 1 0 1 0 0 0 1 1 0 0 1 0 1 0 1 1 0 0 0 0 0 1 0 0 0 1 0 0 1 1\n",
       "[149] 1 1 1 0 1 0 1 0 0 0 1 0 1 1 0 1 1 1 0 1 1 1 0 0 1 0 0 1 1 0 0 0 1 1 1 1 1\n",
       "[186] 1 0 1 0 1 0 0 1 0 0\n",
       "\n",
       "Labels:\n",
       " value   label\n",
       "     0 Mädchen\n",
       "     1   Junge"
      ]
     },
     "metadata": {},
     "output_type": "display_data"
    },
    {
     "data": {
      "text/plain": [
       "\n",
       " Descriptive statistics by group \n",
       "group: 0\n",
       "   vars  n  mean   sd median trimmed  mad min max range skew kurtosis   se\n",
       "X1    1 87 12.85 5.74     13   12.75 5.93   0  25    25 0.15    -0.62 0.62\n",
       "------------------------------------------------------------ \n",
       "group: 1\n",
       "   vars   n  mean   sd median trimmed  mad min max range  skew kurtosis   se\n",
       "X1    1 106 14.88 5.73     15   15.12 5.93   0  26    26 -0.35     -0.5 0.56"
      ]
     },
     "metadata": {},
     "output_type": "display_data"
    }
   ],
   "source": [
    "daten$sex\n",
    "\n",
    "psych::describeBy(x = daten$vorwissen, \n",
    "                  group = as.factor(daten$sex))"
   ]
  },
  {
   "cell_type": "markdown",
   "metadata": {},
   "source": [
    "**Empirische Kennwerte:**\n",
    "\n",
    "Mädchen: *M* = 12.85, *SD* = 5.74\n",
    "\n",
    "Junge: *M* = 14.88, *SD* = 5.73"
   ]
  },
  {
   "cell_type": "code",
   "execution_count": 12,
   "metadata": {},
   "outputs": [
    {
     "data": {
      "text/plain": [
       "\n",
       "\tWelch Two Sample t-test\n",
       "\n",
       "data:  daten$vorwissen by as.factor(daten$sex)\n",
       "t = -2.442, df = 183.61, p-value = 0.01555\n",
       "alternative hypothesis: true difference in means is not equal to 0\n",
       "95 percent confidence interval:\n",
       " -3.6642723 -0.3892953\n",
       "sample estimates:\n",
       "mean in group 0 mean in group 1 \n",
       "       12.85057        14.87736 \n"
      ]
     },
     "metadata": {},
     "output_type": "display_data"
    },
    {
     "data": {
      "text/plain": [
       "\n",
       "Cohen's d\n",
       "\n",
       "d estimate: -0.3533377 (small)\n",
       "95 percent confidence interval:\n",
       "      lower       upper \n",
       "-0.64088219 -0.06579326 \n"
      ]
     },
     "metadata": {},
     "output_type": "display_data"
    }
   ],
   "source": [
    "t.test(daten$vorwissen ~ as.factor(daten$sex))\n",
    "\n",
    "effsize::cohen.d(daten$vorwissen ~ as.factor(daten$sex))"
   ]
  },
  {
   "cell_type": "markdown",
   "metadata": {},
   "source": [
    "**Ergebnis:**\n",
    "t(183.61) = -2.44, *p* < .05, *d* = -0.35\n",
    "\n",
    "**Interpretation:** Es gibt einen signifikanten Unterschied im arithmetischen Vorwissen zwischen\n",
    "Mädchen und Jungen – und zwar zugunsten der Jungen. Dieser Unterschied liegt mit einem\n",
    "Cohen’s d von -0.35 im eher im geringen Bereich.\n"
   ]
  },
  {
   "cell_type": "markdown",
   "metadata": {},
   "source": [
    "## Lösung Aufgabe 5.\n",
    "\n",
    "Gibt es einen Unterschied im mathematischen Interesse zwischen Prä- und Postest (int_prä vs.\n",
    "int_post)?\n",
    "\n",
    "**Statistisches Verfahren: t-Test für abhängige Stichproben**"
   ]
  },
  {
   "cell_type": "code",
   "execution_count": 13,
   "metadata": {},
   "outputs": [
    {
     "data": {
      "text/html": [
       "<table class=\"dataframe\">\n",
       "<caption>A psych: 2 × 13</caption>\n",
       "<thead>\n",
       "\t<tr><th></th><th scope=col>vars</th><th scope=col>n</th><th scope=col>mean</th><th scope=col>sd</th><th scope=col>median</th><th scope=col>trimmed</th><th scope=col>mad</th><th scope=col>min</th><th scope=col>max</th><th scope=col>range</th><th scope=col>skew</th><th scope=col>kurtosis</th><th scope=col>se</th></tr>\n",
       "\t<tr><th></th><th scope=col>&lt;int&gt;</th><th scope=col>&lt;dbl&gt;</th><th scope=col>&lt;dbl&gt;</th><th scope=col>&lt;dbl&gt;</th><th scope=col>&lt;dbl&gt;</th><th scope=col>&lt;dbl&gt;</th><th scope=col>&lt;dbl&gt;</th><th scope=col>&lt;dbl&gt;</th><th scope=col>&lt;dbl&gt;</th><th scope=col>&lt;dbl&gt;</th><th scope=col>&lt;dbl&gt;</th><th scope=col>&lt;dbl&gt;</th><th scope=col>&lt;dbl&gt;</th></tr>\n",
       "</thead>\n",
       "<tbody>\n",
       "\t<tr><th scope=row>int_prä</th><td>1</td><td>195</td><td>3.607265</td><td>0.5511260</td><td>3.833333</td><td>3.719745</td><td>0.2471</td><td>1.5</td><td>4</td><td>2.5</td><td>-1.657807</td><td>2.261035</td><td>0.03946695</td></tr>\n",
       "\t<tr><th scope=row>int_post</th><td>2</td><td>184</td><td>3.631612</td><td>0.4746312</td><td>3.833333</td><td>3.714302</td><td>0.2471</td><td>1.0</td><td>4</td><td>3.0</td><td>-1.924859</td><td>5.464698</td><td>0.03499028</td></tr>\n",
       "</tbody>\n",
       "</table>\n"
      ],
      "text/latex": [
       "A psych: 2 × 13\n",
       "\\begin{tabular}{r|lllllllllllll}\n",
       "  & vars & n & mean & sd & median & trimmed & mad & min & max & range & skew & kurtosis & se\\\\\n",
       "  & <int> & <dbl> & <dbl> & <dbl> & <dbl> & <dbl> & <dbl> & <dbl> & <dbl> & <dbl> & <dbl> & <dbl> & <dbl>\\\\\n",
       "\\hline\n",
       "\tint\\_prä & 1 & 195 & 3.607265 & 0.5511260 & 3.833333 & 3.719745 & 0.2471 & 1.5 & 4 & 2.5 & -1.657807 & 2.261035 & 0.03946695\\\\\n",
       "\tint\\_post & 2 & 184 & 3.631612 & 0.4746312 & 3.833333 & 3.714302 & 0.2471 & 1.0 & 4 & 3.0 & -1.924859 & 5.464698 & 0.03499028\\\\\n",
       "\\end{tabular}\n"
      ],
      "text/markdown": [
       "\n",
       "A psych: 2 × 13\n",
       "\n",
       "| <!--/--> | vars &lt;int&gt; | n &lt;dbl&gt; | mean &lt;dbl&gt; | sd &lt;dbl&gt; | median &lt;dbl&gt; | trimmed &lt;dbl&gt; | mad &lt;dbl&gt; | min &lt;dbl&gt; | max &lt;dbl&gt; | range &lt;dbl&gt; | skew &lt;dbl&gt; | kurtosis &lt;dbl&gt; | se &lt;dbl&gt; |\n",
       "|---|---|---|---|---|---|---|---|---|---|---|---|---|---|\n",
       "| int_prä | 1 | 195 | 3.607265 | 0.5511260 | 3.833333 | 3.719745 | 0.2471 | 1.5 | 4 | 2.5 | -1.657807 | 2.261035 | 0.03946695 |\n",
       "| int_post | 2 | 184 | 3.631612 | 0.4746312 | 3.833333 | 3.714302 | 0.2471 | 1.0 | 4 | 3.0 | -1.924859 | 5.464698 | 0.03499028 |\n",
       "\n"
      ],
      "text/plain": [
       "         vars n   mean     sd        median   trimmed  mad    min max range\n",
       "int_prä  1    195 3.607265 0.5511260 3.833333 3.719745 0.2471 1.5 4   2.5  \n",
       "int_post 2    184 3.631612 0.4746312 3.833333 3.714302 0.2471 1.0 4   3.0  \n",
       "         skew      kurtosis se        \n",
       "int_prä  -1.657807 2.261035 0.03946695\n",
       "int_post -1.924859 5.464698 0.03499028"
      ]
     },
     "metadata": {},
     "output_type": "display_data"
    }
   ],
   "source": [
    "psych::describe(daten %>% select(int_prä,int_post))"
   ]
  },
  {
   "cell_type": "markdown",
   "metadata": {},
   "source": [
    "**Empirische Kennwerte:**\n",
    "\n",
    "Prä: *M* = 3.60, *SD* = 0.55\n",
    "\n",
    "Post: *M* = 3.63, *SD* = 0.47"
   ]
  },
  {
   "cell_type": "code",
   "execution_count": 14,
   "metadata": {},
   "outputs": [
    {
     "data": {
      "text/plain": [
       "\n",
       "\tPaired t-test\n",
       "\n",
       "data:  daten$int_prä and daten$int_post\n",
       "t = -0.24291, df = 183, p-value = 0.8083\n",
       "alternative hypothesis: true difference in means is not equal to 0\n",
       "95 percent confidence interval:\n",
       " -0.07271544  0.05677341\n",
       "sample estimates:\n",
       "mean of the differences \n",
       "           -0.007971014 \n"
      ]
     },
     "metadata": {},
     "output_type": "display_data"
    },
    {
     "data": {
      "text/plain": [
       "\n",
       "Cohen's d\n",
       "\n",
       "d estimate: -0.01544493 (negligible)\n",
       "95 percent confidence interval:\n",
       "     lower      upper \n",
       "-0.1404874  0.1095975 \n"
      ]
     },
     "metadata": {},
     "output_type": "display_data"
    }
   ],
   "source": [
    "t.test(daten$int_prä,\n",
    "       daten$int_post,\n",
    "       paired = TRUE)\n",
    "\n",
    "## Da die Variable int_post fehlende Werte aufweist müssten wir den Parameter na.rm=TRUE mit angeben,\n",
    "## dieser sorgt für einen Fallweisen ausschluss.\n",
    "effsize::cohen.d(daten$int_prä,\n",
    "                 daten$int_post,\n",
    "                 na.rm=TRUE,\n",
    "                 paired = TRUE)"
   ]
  },
  {
   "cell_type": "markdown",
   "metadata": {},
   "source": [
    "**Ergebnis:**\n",
    "t(183) = -0.24, *p* = .81, *d* = -0.02\n",
    "\n",
    "**Interpretation:** Es gibt keinen signifikanten Unterschied im mathematischen Interesse zwischen\n",
    "Prä- und Posttest. "
   ]
  }
 ],
 "metadata": {
  "kernelspec": {
   "display_name": "R",
   "language": "R",
   "name": "ir"
  },
  "language_info": {
   "codemirror_mode": "r",
   "file_extension": ".r",
   "mimetype": "text/x-r-source",
   "name": "R",
   "pygments_lexer": "r",
   "version": "4.0.3"
  }
 },
 "nbformat": 4,
 "nbformat_minor": 4
}
