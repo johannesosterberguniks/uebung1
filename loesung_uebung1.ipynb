{
 "cells": [
  {
   "cell_type": "code",
   "execution_count": 1,
   "id": "6e0b68bb-25c7-4dcb-b09b-250ee599bcdb",
   "metadata": {},
   "outputs": [
    {
     "name": "stderr",
     "output_type": "stream",
     "text": [
      "── \u001b[1mAttaching packages\u001b[22m ─────────────────────────────────────── tidyverse 1.3.1 ──\n",
      "\n",
      "\u001b[32m✔\u001b[39m \u001b[34mggplot2\u001b[39m 3.3.3     \u001b[32m✔\u001b[39m \u001b[34mpurrr  \u001b[39m 0.3.4\n",
      "\u001b[32m✔\u001b[39m \u001b[34mtibble \u001b[39m 3.1.1     \u001b[32m✔\u001b[39m \u001b[34mdplyr  \u001b[39m 1.0.6\n",
      "\u001b[32m✔\u001b[39m \u001b[34mtidyr  \u001b[39m 1.1.3     \u001b[32m✔\u001b[39m \u001b[34mstringr\u001b[39m 1.4.0\n",
      "\u001b[32m✔\u001b[39m \u001b[34mreadr  \u001b[39m 1.4.0     \u001b[32m✔\u001b[39m \u001b[34mforcats\u001b[39m 0.5.1\n",
      "\n",
      "── \u001b[1mConflicts\u001b[22m ────────────────────────────────────────── tidyverse_conflicts() ──\n",
      "\u001b[31m✖\u001b[39m \u001b[34mdplyr\u001b[39m::\u001b[32mfilter()\u001b[39m masks \u001b[34mstats\u001b[39m::filter()\n",
      "\u001b[31m✖\u001b[39m \u001b[34mdplyr\u001b[39m::\u001b[32mlag()\u001b[39m    masks \u001b[34mstats\u001b[39m::lag()\n",
      "\n"
     ]
    }
   ],
   "source": [
    "# Das Paket tidyverse wird geladen\n",
    "library(tidyverse)\n",
    "# Lade den Data-Frame\n",
    "load(file = \"Unterschiedshypothesen1.RData\")"
   ]
  },
  {
   "cell_type": "markdown",
   "id": "b0e98c65-9102-462c-a41c-e127fbab69b8",
   "metadata": {},
   "source": [
    "## Lösung Aufgabe 1.\n",
    "Damit wir von einer Vergleichbarkeit der beiden Interventionsgruppen ausgehen können, möchten wir überprüfen, ob sich die verschachtelte und die geblockte Bedingung (gruppe) in ihrem Vorwissen (vorwissen) unterscheiden. Überprüft dies.\n",
    "\n",
    "**Statistisches Verfahren:t-Test für unabhängige Stichproben bzw. Welch-Test für unabhängige Stichproben.**\n"
   ]
  },
  {
   "cell_type": "code",
   "execution_count": 2,
   "id": "e9ea1f29-f562-437b-9076-ca0ba40c7192",
   "metadata": {},
   "outputs": [
    {
     "data": {
      "text/plain": [
       "\n",
       " Descriptive statistics by group \n",
       "group: 0\n",
       "   vars  n  mean   sd median trimmed  mad min max range  skew kurtosis   se\n",
       "X1    1 98 13.82 5.78   14.5   14.04 6.67   0  25    25 -0.28    -0.63 0.58\n",
       "------------------------------------------------------------ \n",
       "group: 1\n",
       "   vars  n  mean   sd median trimmed  mad min max range skew kurtosis  se\n",
       "X1    1 95 14.12 5.87     14   14.06 7.41   0  26    26 0.04    -0.79 0.6"
      ]
     },
     "metadata": {},
     "output_type": "display_data"
    }
   ],
   "source": [
    "psych::describeBy(x = Unterschiedshypothesen1$vorwissen, \n",
    "                  group = Unterschiedshypothesen1$gruppe)"
   ]
  },
  {
   "cell_type": "markdown",
   "id": "d319e45b-478e-4174-8f57-b67efacbbe78",
   "metadata": {},
   "source": [
    "**Empirische Kennwerte:**\n",
    "\n",
    "verschachtelt: *M* = 13.82, *SD* = 5.78\n",
    "\n",
    "geblockt: *M* = 14.12, *SD* = 5.87"
   ]
  },
  {
   "cell_type": "code",
   "execution_count": 3,
   "id": "742f1959-9f60-453b-b63a-87fe0a27f7a1",
   "metadata": {},
   "outputs": [
    {
     "data": {
      "text/plain": [
       "\n",
       "\tWelch Two Sample t-test\n",
       "\n",
       "data:  Unterschiedshypothesen1$vorwissen by as.factor(Unterschiedshypothesen1$gruppe)\n",
       "t = -0.35709, df = 190.57, p-value = 0.7214\n",
       "alternative hypothesis: true difference in means is not equal to 0\n",
       "95 percent confidence interval:\n",
       " -1.953630  1.354704\n",
       "sample estimates:\n",
       "mean in group 0 mean in group 1 \n",
       "       13.81633        14.11579 \n"
      ]
     },
     "metadata": {},
     "output_type": "display_data"
    },
    {
     "data": {
      "text/plain": [
       "\n",
       "Cohen's d\n",
       "\n",
       "d estimate: -0.05142713 (negligible)\n",
       "95 percent confidence interval:\n",
       "     lower      upper \n",
       "-0.3354702  0.2326160 \n"
      ]
     },
     "metadata": {},
     "output_type": "display_data"
    }
   ],
   "source": [
    "# Der Befehl t.test unterstützt unterschiedliche t-test Verfahren.\n",
    "# Hier wird ein Welch t-test für unabhängige Stichproben durchgeführt.\n",
    "# Es ist sinvoll die Variable gruppe des Datenframes Unterschiedshypothesen1 als Faktor zu betrachten.\n",
    "# Dies geschiet über den Befehl as.factor()\n",
    "\n",
    "t.test(Unterschiedshypothesen1$vorwissen ~ as.factor(Unterschiedshypothesen1$gruppe))\n",
    "\n",
    "# Das Paket effsize kann mit dem Befehl cohen.d() die Effektstärle Cohen's d berechnen.\n",
    "# Dabei können alle Parameter des übrigens T-Tests übernommen werden.\n",
    "# Auch hier ist zu beachten das die Variable gruppe des Datenframes Unterschiedshypothesen1 als Faktor gelesen werden muss\n",
    "\n",
    "effsize::cohen.d(Unterschiedshypothesen1$vorwissen ~ as.factor(Unterschiedshypothesen1$gruppe))"
   ]
  },
  {
   "cell_type": "markdown",
   "id": "7382b788-fe76-4811-b125-0832c5777f35",
   "metadata": {},
   "source": [
    "**Ergebnis:**\n",
    "\n",
    "t(191) = -0.36, p = .72, d = -0.05\n",
    "\n",
    "**Interpretation:** Es gibt keinen signifikanten Unterschied im Vorwissen zwischen der\n",
    "verschachtelten und der geblockten Bedingung – damit sind die beiden Interventionsgruppen\n",
    "bezüglich ihres Vorwissens vergleichbar. "
   ]
  },
  {
   "cell_type": "markdown",
   "id": "ce7169ca-68c4-4c38-9236-d2540577089e",
   "metadata": {},
   "source": [
    "## Lösung Aufgabe 2.\n",
    "\n",
    "Überprüft die Hypothese, dass die Schüler*innen nach der Intervention mehr unterschiedliche\n",
    "Subtraktionsstrategien verwenden (flex_post) also vor der Intervention (flex_prä).\n",
    "\n",
    "**Statistisches Verfahren: t-Test für abhängige Stichproben**"
   ]
  },
  {
   "cell_type": "code",
   "execution_count": 4,
   "id": "2a2e9004-6986-4ad5-94a3-afe941455d6e",
   "metadata": {},
   "outputs": [
    {
     "data": {
      "text/html": [
       "<table class=\"dataframe\">\n",
       "<caption>A psych: 2 × 13</caption>\n",
       "<thead>\n",
       "\t<tr><th></th><th scope=col>vars</th><th scope=col>n</th><th scope=col>mean</th><th scope=col>sd</th><th scope=col>median</th><th scope=col>trimmed</th><th scope=col>mad</th><th scope=col>min</th><th scope=col>max</th><th scope=col>range</th><th scope=col>skew</th><th scope=col>kurtosis</th><th scope=col>se</th></tr>\n",
       "\t<tr><th></th><th scope=col>&lt;int&gt;</th><th scope=col>&lt;dbl&gt;</th><th scope=col>&lt;dbl&gt;</th><th scope=col>&lt;dbl&gt;</th><th scope=col>&lt;dbl&gt;</th><th scope=col>&lt;dbl&gt;</th><th scope=col>&lt;dbl&gt;</th><th scope=col>&lt;dbl&gt;</th><th scope=col>&lt;dbl&gt;</th><th scope=col>&lt;dbl&gt;</th><th scope=col>&lt;dbl&gt;</th><th scope=col>&lt;dbl&gt;</th><th scope=col>&lt;dbl&gt;</th></tr>\n",
       "</thead>\n",
       "<tbody>\n",
       "\t<tr><th scope=row>flex_prä</th><td>1</td><td>195</td><td>0.9435897</td><td>0.5849464</td><td>1</td><td>0.9171975</td><td>0.0000</td><td>0</td><td>3</td><td>3</td><td> 0.31434533</td><td> 1.051705</td><td>0.04188888</td></tr>\n",
       "\t<tr><th scope=row>flex_post</th><td>2</td><td>195</td><td>1.7794872</td><td>1.1340966</td><td>2</td><td>1.8025478</td><td>1.4826</td><td>0</td><td>4</td><td>4</td><td>-0.04866951</td><td>-1.085641</td><td>0.08121434</td></tr>\n",
       "</tbody>\n",
       "</table>\n"
      ],
      "text/latex": [
       "A psych: 2 × 13\n",
       "\\begin{tabular}{r|lllllllllllll}\n",
       "  & vars & n & mean & sd & median & trimmed & mad & min & max & range & skew & kurtosis & se\\\\\n",
       "  & <int> & <dbl> & <dbl> & <dbl> & <dbl> & <dbl> & <dbl> & <dbl> & <dbl> & <dbl> & <dbl> & <dbl> & <dbl>\\\\\n",
       "\\hline\n",
       "\tflex\\_prä & 1 & 195 & 0.9435897 & 0.5849464 & 1 & 0.9171975 & 0.0000 & 0 & 3 & 3 &  0.31434533 &  1.051705 & 0.04188888\\\\\n",
       "\tflex\\_post & 2 & 195 & 1.7794872 & 1.1340966 & 2 & 1.8025478 & 1.4826 & 0 & 4 & 4 & -0.04866951 & -1.085641 & 0.08121434\\\\\n",
       "\\end{tabular}\n"
      ],
      "text/markdown": [
       "\n",
       "A psych: 2 × 13\n",
       "\n",
       "| <!--/--> | vars &lt;int&gt; | n &lt;dbl&gt; | mean &lt;dbl&gt; | sd &lt;dbl&gt; | median &lt;dbl&gt; | trimmed &lt;dbl&gt; | mad &lt;dbl&gt; | min &lt;dbl&gt; | max &lt;dbl&gt; | range &lt;dbl&gt; | skew &lt;dbl&gt; | kurtosis &lt;dbl&gt; | se &lt;dbl&gt; |\n",
       "|---|---|---|---|---|---|---|---|---|---|---|---|---|---|\n",
       "| flex_prä | 1 | 195 | 0.9435897 | 0.5849464 | 1 | 0.9171975 | 0.0000 | 0 | 3 | 3 |  0.31434533 |  1.051705 | 0.04188888 |\n",
       "| flex_post | 2 | 195 | 1.7794872 | 1.1340966 | 2 | 1.8025478 | 1.4826 | 0 | 4 | 4 | -0.04866951 | -1.085641 | 0.08121434 |\n",
       "\n"
      ],
      "text/plain": [
       "          vars n   mean      sd        median trimmed   mad    min max range\n",
       "flex_prä  1    195 0.9435897 0.5849464 1      0.9171975 0.0000 0   3   3    \n",
       "flex_post 2    195 1.7794872 1.1340966 2      1.8025478 1.4826 0   4   4    \n",
       "          skew        kurtosis  se        \n",
       "flex_prä   0.31434533  1.051705 0.04188888\n",
       "flex_post -0.04866951 -1.085641 0.08121434"
      ]
     },
     "metadata": {},
     "output_type": "display_data"
    }
   ],
   "source": [
    "psych::describe(Unterschiedshypothesen1 %>% select(flex_prä,flex_post))"
   ]
  },
  {
   "cell_type": "markdown",
   "id": "5794a8d3-4517-4040-ab7a-111f2d214832",
   "metadata": {},
   "source": [
    "**Empirische Kennwerte: Prätest:** \n",
    "\n",
    "Prä: *M* = 0.94, *SD* = 0.58\n",
    "\n",
    "Post: *M* = 1.78, *SD* = 1.13"
   ]
  },
  {
   "cell_type": "code",
   "execution_count": 5,
   "id": "dc9b3198-f44e-4e01-b1e6-62241d7222f7",
   "metadata": {},
   "outputs": [
    {
     "data": {
      "text/plain": [
       "\n",
       "\tPaired t-test\n",
       "\n",
       "data:  Unterschiedshypothesen1$flex_prä and Unterschiedshypothesen1$flex_post\n",
       "t = -9.4063, df = 194, p-value < 2.2e-16\n",
       "alternative hypothesis: true difference in means is not equal to 0\n",
       "95 percent confidence interval:\n",
       " -1.0111646 -0.6606302\n",
       "sample estimates:\n",
       "mean of the differences \n",
       "             -0.8358974 \n"
      ]
     },
     "metadata": {},
     "output_type": "display_data"
    },
    {
     "data": {
      "text/plain": [
       "\n",
       "Cohen's d\n",
       "\n",
       "d estimate: -0.920331 (large)\n",
       "95 percent confidence interval:\n",
       "     lower      upper \n",
       "-1.1498455 -0.6908164 \n"
      ]
     },
     "metadata": {},
     "output_type": "display_data"
    }
   ],
   "source": [
    "# Es ist wichtig dem Befehl t.test den Parameter (paired = FALSE) anzufügen, \n",
    "#da so ein Welch t-test für verbundene Stichproben berechnent wurd \n",
    "\n",
    "t.test(Unterschiedshypothesen1$flex_prä,\n",
    "       Unterschiedshypothesen1$flex_post,\n",
    "       paired = TRUE)\n",
    "\n",
    "\n",
    "effsize::cohen.d(Unterschiedshypothesen1$flex_prä,\n",
    "                 Unterschiedshypothesen1$flex_post,\n",
    "                 paired = TRUE)"
   ]
  },
  {
   "cell_type": "markdown",
   "id": "01d836e6-44fd-4d1d-9039-7e174cde7e4f",
   "metadata": {},
   "source": [
    "**Ergebnis:**\n",
    "t(194) = -9.41, *p* < .001, *d* = -0.92\n",
    "\n",
    "**Interpretation:** \n",
    "Die Schüler*innen nutzen zum Posttest signifikant mehr unterschiedliche\n",
    "Strategien als zum Prätest. Dieser Unterschied ist praktisch bedeutsam. Es handelt sich hierbei\n",
    "mit Cohen’s *d* = -0.92 um einen großen Effekt."
   ]
  },
  {
   "cell_type": "code",
   "execution_count": null,
   "id": "44667a05-1883-4c25-8d74-a33901232202",
   "metadata": {},
   "outputs": [],
   "source": []
  },
  {
   "cell_type": "code",
   "execution_count": null,
   "id": "9c032121-c488-4eb4-87ae-eb94c622c54e",
   "metadata": {},
   "outputs": [],
   "source": []
  }
 ],
 "metadata": {
  "kernelspec": {
   "display_name": "R",
   "language": "R",
   "name": "ir"
  },
  "language_info": {
   "codemirror_mode": "r",
   "file_extension": ".r",
   "mimetype": "text/x-r-source",
   "name": "R",
   "pygments_lexer": "r",
   "version": "4.0.3"
  }
 },
 "nbformat": 4,
 "nbformat_minor": 5
}
