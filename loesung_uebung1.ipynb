{
 "cells": [
  {
   "cell_type": "code",
   "execution_count": null,
   "id": "6e0b68bb-25c7-4dcb-b09b-250ee599bcdb",
   "metadata": {},
   "outputs": [],
   "source": [
    "# Das Paket tidyverse wird geladen\n",
    "library(tidyverse);\n",
    "\n",
    "load(file = \"Unterschiedshypothesen1.RData\")"
   ]
  },
  {
   "cell_type": "markdown",
   "id": "b0e98c65-9102-462c-a41c-e127fbab69b8",
   "metadata": {},
   "source": [
    "## Aufgabe 1.\n",
    "Damit wir von einer Vergleichbarkeit der beiden Interventionsgruppen ausgehen können, möchten wir überprüfen, ob sich die verschachtelte und die geblockte Bedingung (gruppe) in ihrem Vorwissen (vorwissen) unterscheiden. Überprüft dies.\n",
    "\n",
    "**Als Statistisches Verfahren wird der t-Test für unabhängige Stichproben bzw. der Welch Test gewählt.**\n"
   ]
  },
  {
   "cell_type": "code",
   "execution_count": 10,
   "id": "e9ea1f29-f562-437b-9076-ca0ba40c7192",
   "metadata": {},
   "outputs": [
    {
     "data": {
      "text/plain": [
       "\n",
       " Descriptive statistics by group \n",
       "group: 0\n",
       "   vars  n  mean   sd median trimmed  mad min max range  skew kurtosis   se\n",
       "X1    1 98 13.82 5.78   14.5   14.04 6.67   0  25    25 -0.28    -0.63 0.58\n",
       "------------------------------------------------------------ \n",
       "group: 1\n",
       "   vars  n  mean   sd median trimmed  mad min max range skew kurtosis  se\n",
       "X1    1 95 14.12 5.87     14   14.06 7.41   0  26    26 0.04    -0.79 0.6"
      ]
     },
     "metadata": {},
     "output_type": "display_data"
    }
   ],
   "source": [
    "psych::describeBy(x = Unterschiedshypothesen1$vorwissen, \n",
    "                  group = Unterschiedshypothesen1$gruppe)"
   ]
  },
  {
   "cell_type": "markdown",
   "id": "d319e45b-478e-4174-8f57-b67efacbbe78",
   "metadata": {},
   "source": [
    "Empirische Kennwerte: \n",
    "verschachtelt: M = 13.82, SD = 5.78\n",
    "geblockt: M = 14.12, SD = 5.87"
   ]
  },
  {
   "cell_type": "code",
   "execution_count": 8,
   "id": "742f1959-9f60-453b-b63a-87fe0a27f7a1",
   "metadata": {},
   "outputs": [
    {
     "data": {
      "text/plain": [
       "\n",
       "\tWelch Two Sample t-test\n",
       "\n",
       "data:  vorwissen by gruppe\n",
       "t = -0.35709, df = 190.57, p-value = 0.7214\n",
       "alternative hypothesis: true difference in means is not equal to 0\n",
       "95 percent confidence interval:\n",
       " -1.953630  1.354704\n",
       "sample estimates:\n",
       "mean in group 0 mean in group 1 \n",
       "       13.81633        14.11579 \n"
      ]
     },
     "metadata": {},
     "output_type": "display_data"
    }
   ],
   "source": [
    "#\n",
    "t.test(vorwissen ~ gruppe, data=Unterschiedshypothesen1)"
   ]
  },
  {
   "cell_type": "markdown",
   "id": "7382b788-fe76-4811-b125-0832c5777f35",
   "metadata": {},
   "source": [
    "**Ergebnis**\n",
    "\n",
    "t(191) = -0.36, p = .72, d = -0.05\n",
    "\n",
    "**Interpretation:** Es gibt keinen signifikanten Unterschied im Vorwissen zwischen der\n",
    "verschachtelten und der geblockten Bedingung – damit sind die beiden Interventionsgruppen\n",
    "bezüglich ihres Vorwissens vergleichbar. "
   ]
  },
  {
   "cell_type": "code",
   "execution_count": null,
   "id": "93ad9c07-d104-40ff-b198-e738846bad38",
   "metadata": {},
   "outputs": [],
   "source": []
  }
 ],
 "metadata": {
  "kernelspec": {
   "display_name": "R",
   "language": "R",
   "name": "ir"
  },
  "language_info": {
   "codemirror_mode": "r",
   "file_extension": ".r",
   "mimetype": "text/x-r-source",
   "name": "R",
   "pygments_lexer": "r",
   "version": "4.0.3"
  }
 },
 "nbformat": 4,
 "nbformat_minor": 5
}
